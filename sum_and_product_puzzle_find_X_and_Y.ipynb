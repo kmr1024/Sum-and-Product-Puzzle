{
 "cells": [
  {
   "cell_type": "code",
   "execution_count": 1,
   "metadata": {},
   "outputs": [],
   "source": [
    "import numpy as np\n",
    "\n",
    "def factor_sum(N): # returns factors of N without N and 1 and ony returns if sum of pair factors is less than 101\n",
    "    a = []\n",
    "    for x11 in range(2,int(N/2+1)):\n",
    "        if (float(N/x11)%1==0.0): \n",
    "            y11=int(N/x11)\n",
    "            #print(y11)\n",
    "            s11 = x11 + y11\n",
    "            if (y11>x11 and (s11)<101): \n",
    "                a.append(s11)\n",
    "                #count += 1\n",
    "            #print(x1,y1)\n",
    "            #print(S, \"--\", x1 , y1)\n",
    "    return (a)\n",
    "\n",
    "def solxy(s,p):\n",
    "    sol_x = int(((-np.sqrt(s*s-4*p) + s)/2))\n",
    "    sol_y = s-sol_x\n",
    "    return([sol_x, sol_y])"
   ]
  },
  {
   "cell_type": "code",
   "execution_count": 3,
   "metadata": {},
   "outputs": [
    {
     "name": "stdout",
     "output_type": "stream",
     "text": [
      "Possible sums:\n",
      " [11. 17. 23. 27. 29. 35. 37. 41. 47. 53.] \n",
      "\n",
      "Impossible sums:\n",
      " [  5.   6.   7.   8.   9.  10.  12.  13.  14.  15.  16.  18.  19.  20.\n",
      "  21.  22.  24.  25.  26.  28.  30.  31.  32.  33.  34.  36.  38.  39.\n",
      "  40.  42.  43.  44.  45.  46.  48.  49.  50.  51.  52.  54.  55.  56.\n",
      "  57.  58.  59.  60.  61.  62.  63.  64.  65.  66.  67.  68.  69.  70.\n",
      "  71.  72.  73.  74.  75.  76.  77.  78.  79.  80.  81.  82.  83.  84.\n",
      "  85.  86.  87.  88.  89.  90.  91.  92.  93.  94.  95.  96.  97.  98.\n",
      "  99. 100.]\n"
     ]
    }
   ],
   "source": [
    "sums = np.array([])\n",
    "sumsx = np.array([])\n",
    "sums2 =  np.array([])\n",
    "prd_dict = {}\n",
    "P_only = []\n",
    "for S in range(5,101):\n",
    "    #print(S)\n",
    "    skip = False\n",
    "    if S%2 == 0:\n",
    "        b = 0\n",
    "    else: b = 1\n",
    "    for x in range (2,int(S/2)+b*1): # look for possible pairs in the sum and canculate the product\n",
    "        #print (int(S/2)+b*1, x)\n",
    "        y= S-x\n",
    "        P=x*y\n",
    "        count = 0\n",
    "        prd_dict_1= factor_sum(P)\n",
    "\n",
    "        if len(prd_dict_1) == 1 :   #  if only one pair of factor (statisfying x>2 and y>x and y not = x)  \n",
    "            skip = True\n",
    "            break \n",
    "            # if count == 2:\n",
    "            #     sums2 = np.append(sums2, S)\n",
    "        if P not in P_only:\n",
    "            prd_dict[P]= prd_dict_1\n",
    "            P_only.append(P)\n",
    "    if skip == True: \n",
    "        sumsx = np.append(sumsx, S) # can be add in the inside loop? no \n",
    "        continue\n",
    "    else:\n",
    "        sums = np.append(sums, S)\n",
    "        #if count == 2:\n",
    "        #    sums2 = np.append(sums2, S)\n",
    "\n",
    "\n",
    "sums2=list(set(list(sums2)))\n",
    "sums2 = list(map(int, sums2))\n",
    "\n",
    "\n",
    "print(\"Possible sums:\\n\", sums, \"\\n\\nImpossible sums:\\n\", sumsx)\n"
   ]
  },
  {
   "cell_type": "code",
   "execution_count": 4,
   "metadata": {},
   "outputs": [
    {
     "name": "stdout",
     "output_type": "stream",
     "text": [
      "Product [summ of factors]\n",
      "18 [11, 9]\n",
      "28 [16, 11]\n",
      "52 [28, 17]\n",
      "76 [40, 23]\n",
      "112 [58, 32, 23, 22]\n",
      "50 [27, 15]\n",
      "92 [48, 27]\n",
      "162 [83, 57, 33, 27]\n",
      "176 [90, 48, 30, 27]\n",
      "198 [69, 39, 31, 29]\n",
      "204 [71, 55, 40, 29]\n",
      "124 [64, 35]\n",
      "216 [75, 58, 42, 35, 33, 30]\n",
      "234 [81, 45, 35, 31]\n",
      "250 [55, 35]\n",
      "276 [95, 73, 52, 35]\n",
      "232 [62, 37]\n",
      "270 [93, 59, 51, 39, 37, 33]\n",
      "340 [89, 73, 44, 37]\n",
      "148 [76, 41]\n",
      "238 [41, 31]\n",
      "310 [67, 41]\n",
      "364 [95, 59, 41, 40]\n",
      "400 [85, 58, 50, 41]\n",
      "408 [74, 59, 46, 41]\n",
      "418 [49, 41]\n",
      "172 [88, 47]\n",
      "246 [85, 47]\n",
      "280 [74, 61, 47, 43, 38, 34]\n",
      "370 [79, 47]\n",
      "442 [47, 43]\n",
      "496 [70, 47]\n",
      "510 [91, 61, 49, 47]\n",
      "552 [98, 77, 58, 47]\n",
      "240 [83, 64, 53, 46, 38, 34, 32, 31]\n",
      "282 [97, 53]\n",
      "430 [91, 53]\n",
      "492 [88, 53]\n",
      "520 [73, 62, 53, 46]\n",
      "592 [82, 53]\n",
      "612 [77, 63, 53, 52]\n",
      "646 [55, 53]\n",
      "660 [76, 71, 67, 59, 53, 52]\n",
      "672 [92, 68, 62, 58, 53, 52]\n",
      "682 [73, 53]\n",
      "700 [80, 64, 55, 53]\n",
      "702 [87, 67, 57, 53]\n"
     ]
    }
   ],
   "source": [
    "print(\"Product [summ of factors]\")\n",
    "dict_final = {}\n",
    "for k in prd_dict:\n",
    "    cnt = 0\n",
    "    cnt2 = 0\n",
    "    prd_dict_list = list(prd_dict[k])\n",
    "    if len(prd_dict_list)>1:\n",
    "        for val in prd_dict_list:\n",
    "            if val in sums:\n",
    "                cnt += 1 \n",
    "            elif val in sumsx:\n",
    "                cnt2 += 1 \n",
    "                #print(cnt2)\n",
    "        if (cnt == 1 & cnt2 == 1):\n",
    "            print(k, prd_dict[k])\n",
    "            dict_final[k] = prd_dict[k]\n",
    "            cnt, cnt2 = 0,0 \n",
    "rl = []\n",
    "\n",
    "occurance = {}\n",
    "for v in dict_final:\n",
    "    for l in dict_final[v]:\n",
    "        flg = False\n",
    "        if len(dict_final[v]) == 2:\n",
    "            flg = True\n",
    "        if l in sums:\n",
    "            if l in rl: \n",
    "                occurance[l] = \"many\"\n",
    "            else:\n",
    "                occurance[l] = \"once\"\n",
    "                if flg == True :\n",
    "                    xy = solxy(l,v)\n",
    "                    occurance[l] = str(l)  + \" occurred once and This is the SUM! and product is \" + str(v) + \". Solution: x  = \" + str(xy[0]) +  \" and y = \" + str(xy[1])\n",
    "\n",
    "        rl.append(l)\n"
   ]
  },
  {
   "cell_type": "code",
   "execution_count": 5,
   "metadata": {},
   "outputs": [
    {
     "data": {
      "text/plain": [
       "{11: 'many',\n",
       " 17: '17 occurred once and This is the SUM! and product is 52. Solution: x  = 4 and y = 13',\n",
       " 23: 'many',\n",
       " 27: 'many',\n",
       " 29: 'many',\n",
       " 35: 'many',\n",
       " 37: 'many',\n",
       " 41: 'many',\n",
       " 47: 'many',\n",
       " 53: 'many'}"
      ]
     },
     "execution_count": 5,
     "metadata": {},
     "output_type": "execute_result"
    }
   ],
   "source": [
    "occurance"
   ]
  }
 ],
 "metadata": {
  "kernelspec": {
   "display_name": "Python 3",
   "language": "python",
   "name": "python3"
  },
  "language_info": {
   "codemirror_mode": {
    "name": "ipython",
    "version": 3
   },
   "file_extension": ".py",
   "mimetype": "text/x-python",
   "name": "python",
   "nbconvert_exporter": "python",
   "pygments_lexer": "ipython3",
   "version": "3.11.9"
  }
 },
 "nbformat": 4,
 "nbformat_minor": 2
}
